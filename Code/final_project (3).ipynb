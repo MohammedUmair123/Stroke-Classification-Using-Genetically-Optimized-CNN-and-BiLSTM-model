{
  "nbformat": 4,
  "nbformat_minor": 0,
  "metadata": {
    "colab": {
      "provenance": [],
      "gpuType": "V28"
    },
    "kernelspec": {
      "name": "python3",
      "display_name": "Python 3"
    },
    "language_info": {
      "name": "python"
    },
    "accelerator": "TPU"
  },
  "cells": [
    {
      "cell_type": "code",
      "execution_count": null,
      "metadata": {
        "colab": {
          "base_uri": "https://localhost:8080/"
        },
        "id": "4wdjy3mM8Jw8",
        "outputId": "1dd9eab9-8e24-4202-cc7b-049da0880eb8"
      },
      "outputs": [
        {
          "output_type": "stream",
          "name": "stdout",
          "text": [
            "Mounted at /content/drive\n"
          ]
        }
      ],
      "source": [
        "from google.colab import drive\n",
        "drive.mount('/content/drive')"
      ]
    },
    {
      "cell_type": "code",
      "source": [
        "!pip install deap"
      ],
      "metadata": {
        "colab": {
          "base_uri": "https://localhost:8080/"
        },
        "id": "sShprBLF8TBX",
        "outputId": "9fc4e996-ed60-4684-e14e-7c382205357c"
      },
      "execution_count": null,
      "outputs": [
        {
          "output_type": "stream",
          "name": "stdout",
          "text": [
            "Collecting deap\n",
            "  Downloading deap-1.4.1-cp310-cp310-manylinux_2_5_x86_64.manylinux1_x86_64.manylinux_2_17_x86_64.manylinux2014_x86_64.whl.metadata (13 kB)\n",
            "Requirement already satisfied: numpy in /usr/local/lib/python3.10/dist-packages (from deap) (1.26.4)\n",
            "Downloading deap-1.4.1-cp310-cp310-manylinux_2_5_x86_64.manylinux1_x86_64.manylinux_2_17_x86_64.manylinux2014_x86_64.whl (135 kB)\n",
            "\u001b[?25l   \u001b[90m━━━━━━━━━━━━━━━━━━━━━━━━━━━━━━━━━━━━━━━━\u001b[0m \u001b[32m0.0/135.4 kB\u001b[0m \u001b[31m?\u001b[0m eta \u001b[36m-:--:--\u001b[0m\r\u001b[2K   \u001b[91m━━━━━━━━━━━━━━━━━━━━━━━━━━━━━━━━━━━━━━━\u001b[0m\u001b[90m╺\u001b[0m \u001b[32m133.1/135.4 kB\u001b[0m \u001b[31m4.4 MB/s\u001b[0m eta \u001b[36m0:00:01\u001b[0m\r\u001b[2K   \u001b[90m━━━━━━━━━━━━━━━━━━━━━━━━━━━━━━━━━━━━━━━━\u001b[0m \u001b[32m135.4/135.4 kB\u001b[0m \u001b[31m2.8 MB/s\u001b[0m eta \u001b[36m0:00:00\u001b[0m\n",
            "\u001b[?25hInstalling collected packages: deap\n",
            "Successfully installed deap-1.4.1\n"
          ]
        }
      ]
    },
    {
      "cell_type": "code",
      "source": [
        "import numpy as np\n",
        "import cv2\n",
        "import os\n",
        "from sklearn.model_selection import StratifiedKFold\n",
        "from sklearn.metrics import classification_report, roc_auc_score, roc_curve\n",
        "from sklearn.preprocessing import LabelBinarizer\n",
        "from tensorflow.keras.applications import VGG19\n",
        "from tensorflow.keras.models import Sequential\n",
        "from tensorflow.keras.layers import Dense, LSTM, Input, Dropout\n",
        "from tensorflow.keras.callbacks import EarlyStopping\n",
        "from tensorflow.keras.optimizers import Adam\n",
        "from tensorflow.keras.preprocessing.image import ImageDataGenerator\n",
        "import random\n",
        "from deap import base, creator, tools, algorithms\n",
        "import matplotlib.pyplot as plt\n",
        "import tensorflow as tf\n",
        "\n",
        "def load_images_from_folder(folder):\n",
        "    images = []\n",
        "    for filename in os.listdir(folder):\n",
        "        img = cv2.imread(os.path.join(folder, filename))\n",
        "        if img is not None:\n",
        "            img = cv2.resize(img, (224, 224))\n",
        "            images.append(img)\n",
        "    return np.array(images)\n",
        "\n",
        "normal_images = load_images_from_folder('/content/drive/MyDrive/Brain_Data_Organised/Normal')\n",
        "stroke_images = load_images_from_folder('/content/drive/MyDrive/Brain_Data_Organised/Stroke')\n",
        "\n",
        "normal_labels = np.zeros(len(normal_images))\n",
        "stroke_labels = np.ones(len(stroke_images))\n",
        "\n",
        "X = np.concatenate((normal_images, stroke_images), axis=0)\n",
        "y = np.concatenate((normal_labels, stroke_labels), axis=0)\n",
        "X = X / 255.0\n",
        "\n",
        "lb = LabelBinarizer()\n",
        "y = lb.fit_transform(y)\n",
        "\n",
        "datagen = ImageDataGenerator(rotation_range=20, width_shift_range=0.2,\n",
        "                             height_shift_range=0.2, shear_range=0.2,\n",
        "                             zoom_range=0.2, horizontal_flip=True)\n",
        "\n",
        "def extract_features(model, X):\n",
        "    features = model.predict(X, batch_size=32)\n",
        "    return features\n",
        "\n",
        "vgg_model = VGG19(weights='imagenet', include_top=False, input_shape=(224, 224, 3))\n",
        "X_cnn = extract_features(vgg_model, X)\n",
        "\n",
        "X_cnn = X_cnn.reshape(X_cnn.shape[0], -1)\n",
        "\n",
        "if \"FitnessMax\" not in creator.__dict__:\n",
        "    creator.create(\"FitnessMax\", base.Fitness, weights=(1.0,))\n",
        "if \"Individual\" not in creator.__dict__:\n",
        "    creator.create(\"Individual\", list, fitness=creator.FitnessMax)\n",
        "\n",
        "toolbox = base.Toolbox()\n",
        "toolbox.register(\"attr_bool\", random.randint, 0, 1)\n",
        "toolbox.register(\"individual\", tools.initRepeat, creator.Individual,\n",
        "                 toolbox.attr_bool, n=X_cnn.shape[1])\n",
        "toolbox.register(\"population\", tools.initRepeat, list,\n",
        "                 toolbox.individual)\n",
        "\n",
        "def eval_individual(individual, y_train, X_train):\n",
        "    selected_indices = [i for i in range(len(individual)) if individual[i] == 1]\n",
        "    if len(selected_indices) == 0:\n",
        "        return 0,\n",
        "\n",
        "    X_train_selected = X_train[:, selected_indices]\n",
        "\n",
        "    model = Sequential([Dense(128, activation='relu', input_shape=(X_train_selected.shape[1],)),\n",
        "                        Dense(1, activation='sigmoid')])\n",
        "\n",
        "    model.compile(optimizer='adam', loss='binary_crossentropy', metrics=['accuracy'])\n",
        "    model.fit(X_train_selected, y_train, epochs=3, batch_size=32, verbose=0)\n",
        "\n",
        "    accuracy = model.evaluate(X_train_selected, y_train, verbose=0)[1]\n",
        "    return accuracy,\n",
        "\n",
        "toolbox.register(\"evaluate\", eval_individual, X_train=None)\n",
        "toolbox.register(\"mate\", tools.cxTwoPoint)\n",
        "toolbox.register(\"mutate\", tools.mutFlipBit, indpb=0.05)\n",
        "toolbox.register(\"select\", tools.selTournament, tournsize=3)\n",
        "\n",
        "def genetic_feature_selection(y_train, X_train, n_gen=10, pop_size=20):\n",
        "    population = toolbox.population(n=pop_size)\n",
        "    for gen in range(n_gen):\n",
        "        fitnesses = list(map(lambda ind: eval_individual(ind, y_train, X_train), population))\n",
        "        for ind, fit in zip(population, fitnesses):\n",
        "            ind.fitness.values = fit\n",
        "\n",
        "        population = algorithms.varAnd(population, toolbox, cxpb=0.5, mutpb=0.2)\n",
        "        population = toolbox.select(population, len(population))\n",
        "\n",
        "    best_individual = tools.selBest(population, k=1)[0]\n",
        "    selected_features = [i for i in range(len(best_individual)) if best_individual[i] == 1]\n",
        "\n",
        "    return selected_features\n",
        "\n",
        "all_y_true = []\n",
        "all_y_pred_proba = []\n",
        "\n",
        "kf = StratifiedKFold(n_splits=10, shuffle=True, random_state=42)\n",
        "accuracies = []\n",
        "roc_aucs = []\n",
        "\n",
        "X_cnn = extract_features(vgg_model, X)\n",
        "X_cnn = X_cnn.reshape(X_cnn.shape[0], -1)\n",
        "\n",
        "for train_index, test_index in kf.split(X_cnn, y):\n",
        "    X_train, X_test = X_cnn[train_index], X_cnn[test_index]\n",
        "    y_train, y_test = y[train_index], y[test_index]\n",
        "\n",
        "    selected_features = genetic_feature_selection(y_train, X_train)\n",
        "\n",
        "    X_train_selected = X_train[:, selected_features]\n",
        "    X_test_selected = X_test[:, selected_features]\n",
        "\n",
        "    X_train_reshaped = X_train_selected.reshape(X_train_selected.shape[0], 1, X_train_selected.shape[1])\n",
        "    X_test_reshaped = X_test_selected.reshape(X_test_selected.shape[0], 1, X_test_selected.shape[1])\n",
        "\n",
        "    lstm_model = Sequential()\n",
        "    lstm_model.add(Input(shape=(1, X_train_selected.shape[1])))\n",
        "    lstm_model.add(LSTM(128, activation='relu', return_sequences=True))\n",
        "    lstm_model.add(Dropout(0.5))\n",
        "    lstm_model.add(LSTM(64))\n",
        "    lstm_model.add(Dropout(0.5))\n",
        "    lstm_model.add(Dense(1, activation='sigmoid'))\n",
        "\n",
        "    lstm_model.compile(optimizer=Adam(learning_rate=0.0001), loss='binary_crossentropy', metrics=['accuracy'])\n",
        "    early_stopping = EarlyStopping(monitor='val_loss', patience=10)\n",
        "\n",
        "    lstm_model.fit(X_train_reshaped, y_train, epochs=150, validation_data=(X_test_reshaped, y_test),\n",
        "                    callbacks=[early_stopping], verbose=0)\n",
        "\n",
        "    _, accuracy = lstm_model.evaluate(X_test_reshaped, y_test, verbose=0)\n",
        "    y_pred_proba = lstm_model.predict(X_test_reshaped).flatten()\n",
        "\n",
        "    all_y_true.extend(y_test.flatten())\n",
        "    all_y_pred_proba.extend(y_pred_proba)\n",
        "\n",
        "    roc_auc = roc_auc_score(y_test.flatten(), y_pred_proba)\n",
        "    roc_aucs.append(roc_auc)\n",
        "    accuracies.append(accuracy)\n",
        "\n",
        "average_accuracy = np.mean(accuracies) * 100\n",
        "average_auc = np.mean(roc_aucs)\n",
        "\n",
        "print(f'GA-LSTM Accuracy: {average_accuracy:.2f}%')\n",
        "print(f'Average LSTM AUC: {average_auc:.2f}')\n",
        "\n",
        "print(classification_report(all_y_true, (np.array(all_y_pred_proba) > 0.5).astype(int)))\n",
        "\n",
        "fpr, tpr, thresholds = roc_curve(all_y_true, all_y_pred_proba)\n",
        "plt.figure()\n",
        "plt.plot(fpr, tpr, color='blue', label='ROC curve (AUC = %0.2f)' % average_auc)\n",
        "plt.plot([0, 1], [0, 1], color='red', linestyle='--')\n",
        "plt.xlim([0.0, 1.0])\n",
        "plt.ylim([0.0, 1.05])\n",
        "plt.xlabel('False Positive Rate')\n",
        "plt.ylabel('True Positive Rate')\n",
        "plt.title(f'Receiver Operating Characteristic (ROC) Curve (AUC = {average_auc:.2f})')\n",
        "plt.legend(loc='lower right')\n",
        "plt.show()\n",
        "\n",
        "lstm_model.save('stroke_classification_model.keras')\n",
        "\n",
        "def classify_image(image_path):\n",
        "    img = cv2.imread(image_path)\n",
        "    if img is None:\n",
        "        raise ValueError(f\"Image at path {image_path} could not be loaded.\")\n",
        "\n",
        "    img_resized = cv2.resize(img, (224, 224)) / 255.0\n",
        "    img_features = extract_features(vgg_model, np.array([img_resized]))\n",
        "\n",
        "    img_features_reshaped = img_features.reshape(1, -1)[:, selected_features]\n",
        "    img_features_reshaped_lstm_input = img_features_reshaped.reshape(1, 1, img_features_reshaped.shape[1])\n",
        "\n",
        "    prediction = lstm_model.predict(img_features_reshaped_lstm_input)\n",
        "\n",
        "    return \"Stroke\" if prediction > 0.5 else \"Normal\"\n",
        "\n",
        "image_path_to_classify = '/content/drive/MyDrive/Brain_Data_Organised/Normal/100 (17).jpg'  # Replace with your image path\n",
        "classification_result = classify_image(image_path_to_classify)\n",
        "print(f'The image is classified as: {classification_result}')"
      ],
      "metadata": {
        "colab": {
          "base_uri": "https://localhost:8080/",
          "height": 958
        },
        "id": "mzND3noh8d96",
        "outputId": "dc2e583d-7b90-432a-84a7-7c91153b55fd"
      },
      "execution_count": null,
      "outputs": [
        {
          "output_type": "stream",
          "name": "stdout",
          "text": [
            "Downloading data from https://storage.googleapis.com/tensorflow/keras-applications/vgg19/vgg19_weights_tf_dim_ordering_tf_kernels_notop.h5\n",
            "80134624/80134624 [==============================] - 0s 0us/step\n",
            "79/79 [==============================] - 56s 703ms/step\n",
            "79/79 [==============================] - 55s 688ms/step\n",
            "8/8 [==============================] - 1s 4ms/step\n",
            "8/8 [==============================] - 1s 4ms/step\n",
            "8/8 [==============================] - 0s 4ms/step\n",
            "8/8 [==============================] - 1s 4ms/step\n",
            "8/8 [==============================] - 1s 4ms/step\n",
            "8/8 [==============================] - 1s 4ms/step\n",
            "8/8 [==============================] - 0s 4ms/step\n",
            "8/8 [==============================] - 1s 5ms/step\n",
            "8/8 [==============================] - 1s 4ms/step\n",
            "8/8 [==============================] - 1s 4ms/step\n",
            "GA-LSTM Accuracy: 96.16%\n",
            "Average LSTM AUC: 0.99\n",
            "              precision    recall  f1-score   support\n",
            "\n",
            "           0       0.96      0.97      0.97      1551\n",
            "           1       0.96      0.94      0.95       950\n",
            "\n",
            "    accuracy                           0.96      2501\n",
            "   macro avg       0.96      0.96      0.96      2501\n",
            "weighted avg       0.96      0.96      0.96      2501\n",
            "\n"
          ]
        },
        {
          "output_type": "display_data",
          "data": {
            "text/plain": [
              "<Figure size 640x480 with 1 Axes>"
            ],
            "image/png": "[encoded data removed]"
          },
          "metadata": {}
        },
        {
          "output_type": "stream",
          "name": "stdout",
          "text": [
            "1/1 [==============================] - 0s 80ms/step\n",
            "1/1 [==============================] - 0s 25ms/step\n",
            "The image is classified as: Normal\n"
          ]
        }
      ]
    },
    {
      "cell_type": "code",
      "source": [],
      "metadata": {
        "id": "xVzkPLOuzXf-"
      },
      "execution_count": null,
      "outputs": []
    }
  ]
}